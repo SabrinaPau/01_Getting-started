{
 "cells": [
  {
   "cell_type": "code",
   "execution_count": 1,
   "metadata": {},
   "outputs": [
    {
     "data": {
      "text/plain": [
       "'/Users/konstanzebraun/neuefische/da-getting-started'"
      ]
     },
     "execution_count": 1,
     "metadata": {},
     "output_type": "execute_result"
    }
   ],
   "source": [
    "pwd"
   ]
  },
  {
   "cell_type": "code",
   "execution_count": 2,
   "metadata": {},
   "outputs": [
    {
     "name": "stdout",
     "output_type": "stream",
     "text": [
      "1_GitHub_SSH.md\n",
      "2_Virtual_environments_Anaconda_Miniconda.md\n",
      "3_Intro_to_Notebooks.ipynb\n",
      "README.md\n",
      "github_cheatsheet.md\n",
      "\u001b[1m\u001b[36mimages\u001b[m\u001b[m/\n",
      "\u001b[1m\u001b[36mpairings\u001b[m\u001b[m/\n",
      "test.ipynb\n"
     ]
    }
   ],
   "source": [
    "ls"
   ]
  }
 ],
 "metadata": {
  "interpreter": {
   "hash": "ab3d85a18739f6fff6a9c8c504adc2ff9340867b576dede986e2ee74c099e4e5"
  },
  "kernelspec": {
   "display_name": "Python 3.9.11 ('nf_base')",
   "language": "python",
   "name": "python3"
  },
  "language_info": {
   "codemirror_mode": {
    "name": "ipython",
    "version": 3
   },
   "file_extension": ".py",
   "mimetype": "text/x-python",
   "name": "python",
   "nbconvert_exporter": "python",
   "pygments_lexer": "ipython3",
   "version": "3.9.11"
  },
  "orig_nbformat": 4
 },
 "nbformat": 4,
 "nbformat_minor": 2
}
